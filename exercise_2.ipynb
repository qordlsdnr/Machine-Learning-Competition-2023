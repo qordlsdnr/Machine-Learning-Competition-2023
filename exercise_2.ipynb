{
 "cells": [
  {
   "cell_type": "code",
   "execution_count": 2,
   "id": "6ed41e43",
   "metadata": {},
   "outputs": [
    {
     "data": {
      "text/html": [
       "<div>\n",
       "<style scoped>\n",
       "    .dataframe tbody tr th:only-of-type {\n",
       "        vertical-align: middle;\n",
       "    }\n",
       "\n",
       "    .dataframe tbody tr th {\n",
       "        vertical-align: top;\n",
       "    }\n",
       "\n",
       "    .dataframe thead th {\n",
       "        text-align: right;\n",
       "    }\n",
       "</style>\n",
       "<table border=\"1\" class=\"dataframe\">\n",
       "  <thead>\n",
       "    <tr style=\"text-align: right;\">\n",
       "      <th></th>\n",
       "      <th>DEPT</th>\n",
       "      <th>GR</th>\n",
       "      <th>RHOB</th>\n",
       "      <th>NPHI</th>\n",
       "      <th>RD</th>\n",
       "    </tr>\n",
       "  </thead>\n",
       "  <tbody>\n",
       "    <tr>\n",
       "      <th>0</th>\n",
       "      <td>411.0</td>\n",
       "      <td>94.007</td>\n",
       "      <td>2.2421</td>\n",
       "      <td>0.4708</td>\n",
       "      <td>310.513</td>\n",
       "    </tr>\n",
       "    <tr>\n",
       "      <th>1</th>\n",
       "      <td>411.5</td>\n",
       "      <td>95.009</td>\n",
       "      <td>2.2631</td>\n",
       "      <td>0.4757</td>\n",
       "      <td>726.138</td>\n",
       "    </tr>\n",
       "    <tr>\n",
       "      <th>2</th>\n",
       "      <td>412.0</td>\n",
       "      <td>96.101</td>\n",
       "      <td>2.2757</td>\n",
       "      <td>0.4510</td>\n",
       "      <td>975.639</td>\n",
       "    </tr>\n",
       "    <tr>\n",
       "      <th>3</th>\n",
       "      <td>412.5</td>\n",
       "      <td>95.683</td>\n",
       "      <td>2.2726</td>\n",
       "      <td>0.4282</td>\n",
       "      <td>975.639</td>\n",
       "    </tr>\n",
       "    <tr>\n",
       "      <th>4</th>\n",
       "      <td>413.0</td>\n",
       "      <td>93.025</td>\n",
       "      <td>2.2764</td>\n",
       "      <td>0.4085</td>\n",
       "      <td>975.639</td>\n",
       "    </tr>\n",
       "  </tbody>\n",
       "</table>\n",
       "</div>"
      ],
      "text/plain": [
       "    DEPT      GR    RHOB    NPHI       RD\n",
       "0  411.0  94.007  2.2421  0.4708  310.513\n",
       "1  411.5  95.009  2.2631  0.4757  726.138\n",
       "2  412.0  96.101  2.2757  0.4510  975.639\n",
       "3  412.5  95.683  2.2726  0.4282  975.639\n",
       "4  413.0  93.025  2.2764  0.4085  975.639"
      ]
     },
     "execution_count": 2,
     "metadata": {},
     "output_type": "execute_result"
    }
   ],
   "source": [
    "import pandas as pd\n",
    "df=pd.read_csv('data/train/aligned_well_01.csv')\n",
    "df.head()"
   ]
  },
  {
   "cell_type": "code",
   "execution_count": 3,
   "id": "2eadb8cb",
   "metadata": {},
   "outputs": [
    {
     "data": {
      "text/plain": [
       "[<matplotlib.lines.Line2D at 0x1ea4b3fb9d0>]"
      ]
     },
     "execution_count": 3,
     "metadata": {},
     "output_type": "execute_result"
    },
    {
     "data": {
      "image/png": "[encoded data removed]",
      "text/plain": [
       "<Figure size 432x288 with 1 Axes>"
      ]
     },
     "metadata": {
      "needs_background": "light"
     },
     "output_type": "display_data"
    }
   ],
   "source": [
    "import sklearn\n",
    "import matplotlib.pyplot as plt\n",
    "plt.plot(df.RHOB, df.NPHI,'.')"
   ]
  },
  {
   "cell_type": "code",
   "execution_count": 8,
   "id": "e6c31a93",
   "metadata": {},
   "outputs": [],
   "source": [
    "x=df.RHOB.values\n",
    "x=x.reshape(-1,1)\n",
    "y=df.NPHI.values\n",
    "y=y.reshape(-1,1)"
   ]
  },
  {
   "cell_type": "markdown",
   "id": "652760d7",
   "metadata": {},
   "source": [
    "## Preprocessing - Normarlization/Standardizatoin"
   ]
  },
  {
   "cell_type": "code",
   "execution_count": 6,
   "id": "e0bf40bb",
   "metadata": {},
   "outputs": [],
   "source": [
    "from sklearn.preprocessing import StandardScaler, MinMaxScaler"
   ]
  },
  {
   "cell_type": "code",
   "execution_count": 15,
   "id": "4803fcca",
   "metadata": {},
   "outputs": [],
   "source": [
    "#정규화-평균 0, 표준편차 1로 만들어줌\n",
    "x_scaler=StandardScaler()\n",
    "y_scaler=StandardScaler()\n",
    "\n",
    "#fit to data-평균과 표준편차 기억\n",
    "x_scaler.fit(x)\n",
    "y_scaler.fit(y)\n",
    "\n",
    "#Transform data to normaized value-fit data 적용\n",
    "x_scaled=x_scaler.transform(x)\n",
    "y_scaled=y_scaler.transform(y)"
   ]
  },
  {
   "cell_type": "code",
   "execution_count": 16,
   "id": "c538c696",
   "metadata": {},
   "outputs": [
    {
     "data": {
      "text/plain": [
       "(array([4.000e+00, 3.000e+00, 2.000e+00, 5.000e+00, 1.000e+01, 4.600e+01,\n",
       "        2.170e+02, 3.056e+03, 5.441e+03, 9.700e+01]),\n",
       " array([-14.33585323, -12.55440523, -10.77295722,  -8.99150922,\n",
       "         -7.21006121,  -5.4286132 ,  -3.6471652 ,  -1.86571719,\n",
       "         -0.08426919,   1.69717882,   3.47862683]),\n",
       " <BarContainer object of 10 artists>)"
      ]
     },
     "execution_count": 16,
     "metadata": {},
     "output_type": "execute_result"
    },
    {
     "data": {
      "image/png": "[encoded data removed]",
      "text/plain": [
       "<Figure size 432x288 with 1 Axes>"
      ]
     },
     "metadata": {
      "needs_background": "light"
     },
     "output_type": "display_data"
    }
   ],
   "source": [
    "plt.hist(x)\n",
    "plt.hist(x_scaled, label='Scaled',color='r', alpha=0.2)\n"
   ]
  },
  {
   "cell_type": "markdown",
   "id": "56806768",
   "metadata": {},
   "source": [
    "## Training / Test"
   ]
  },
  {
   "cell_type": "code",
   "execution_count": 26,
   "id": "b02b4f9d",
   "metadata": {},
   "outputs": [],
   "source": [
    "from sklearn.model_selection import train_test_split\n",
    "x_scaled_train,x_scaled_test,y_scaled_train,y_scaled_test=train_test_split(x_scaled,y_scaled,\n",
    "                                                                          test_size=0.3,random_state=3)"
   ]
  },
  {
   "cell_type": "markdown",
   "id": "ba7b9980",
   "metadata": {},
   "source": [
    "## Linear Regression"
   ]
  },
  {
   "cell_type": "code",
   "execution_count": 20,
   "id": "895286b7",
   "metadata": {},
   "outputs": [],
   "source": [
    "from sklearn.linear_model import LinearRegression"
   ]
  },
  {
   "cell_type": "code",
   "execution_count": 27,
   "id": "79e14f3f",
   "metadata": {},
   "outputs": [
    {
     "data": {
      "text/plain": [
       "LinearRegression()"
      ]
     },
     "execution_count": 27,
     "metadata": {},
     "output_type": "execute_result"
    }
   ],
   "source": [
    "lr=LinearRegression()\n",
    "lr.fit(x_scaled_train,y_scaled_train)"
   ]
  },
  {
   "cell_type": "code",
   "execution_count": null,
   "id": "3cb9eccb",
   "metadata": {},
   "outputs": [],
   "source": []
  }
 ],
 "metadata": {
  "kernelspec": {
   "display_name": "Python 3 (ipykernel)",
   "language": "python",
   "name": "python3"
  },
  "language_info": {
   "codemirror_mode": {
    "name": "ipython",
    "version": 3
   },
   "file_extension": ".py",
   "mimetype": "text/x-python",
   "name": "python",
   "nbconvert_exporter": "python",
   "pygments_lexer": "ipython3",
   "version": "3.9.12"
  }
 },
 "nbformat": 4,
 "nbformat_minor": 5
}
